{
 "cells": [
  {
   "cell_type": "markdown",
   "metadata": {},
   "source": [
    "# Preparing the VCF file for visualization\n",
    "\n",
    "using webtool : MutationMapper https://www.cbioportal.org/mutation_mapper"
   ]
  },
  {
   "cell_type": "markdown",
   "metadata": {},
   "source": [
    "![image](https://raw.githubusercontent.com/fikaparamita/var-calling/main/images/lolipop.png?token=ARW6RRY7Q25MYLNOLKATMW27VSCJQ)\n",
    "\n"
   ]
  },
  {
   "cell_type": "markdown",
   "metadata": {},
   "source": [
    "Analysis taken from the paper:\n",
    "\n",
    "![image](https://raw.githubusercontent.com/fikaparamita/var-calling/main/images/result1.png?token=ARW6RRZ5C4BKMILG4GMACES7VSCOY)\n",
    "\n",
    "\n",
    "\n",
    "![image](https://raw.githubusercontent.com/fikaparamita/var-calling/main/images/result2.png?token=ARW6RR3QIS47HSF2AS5JYP27VSCRG)\n",
    "\n"
   ]
  },
  {
   "cell_type": "code",
   "execution_count": null,
   "metadata": {},
   "outputs": [],
   "source": []
  }
 ],
 "metadata": {
  "kernelspec": {
   "display_name": "Python 3",
   "language": "python",
   "name": "python3"
  },
  "language_info": {
   "name": ""
  }
 },
 "nbformat": 4,
 "nbformat_minor": 4
}
