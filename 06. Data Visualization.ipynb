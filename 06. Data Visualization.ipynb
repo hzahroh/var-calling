{
 "cells": [
  {
   "cell_type": "markdown",
   "metadata": {},
   "source": [
    "# Preparing the VCF file for visualization\n",
    "\n",
    "using webtool : MutationMapper https://www.cbioportal.org/mutation_mapper"
   ]
  },
  {
   "cell_type": "markdown",
   "metadata": {},
   "source": [
    "<center><img src=\"images/lolipop.png\" width=\"1000\ /" ></center>\n"
   ]
  },
  {
   "cell_type": "markdown",
   "metadata": {},
   "source": [
    "Analysis taken from the paper:\n",
    "\n",
    "<center><img src=\"images/result1.png\" width=\"500\" ></center>\n",
    "\n",
    "\n",
    "\n",
    "<center><img src=\"images/result2.png\" width=\"1000\" ></center>\n"
   ]
  },
  {
   "cell_type": "code",
   "execution_count": null,
   "metadata": {},
   "outputs": [],
   "source": []
  }
 ],
 "metadata": {
  "kernelspec": {
   "display_name": "Python 3",
   "language": "python",
   "name": "python3"
  },
  "language_info": {
   "name": ""
  }
 },
 "nbformat": 4,
 "nbformat_minor": 4
}
