{
 "cells": [
  {
   "cell_type": "markdown",
   "metadata": {},
   "source": [
    "# Analysis of Germline Variants in Pancreatic Cancer\n",
    "\n",
    "In this tutorial, we will analyze variants in Pancreatic cancer patients sequencing data of Earl,J et al. https://www.thelancet.com/journals/ebiom/article/PIIS2352-3964(20)30050-5/fulltext\n",
    "\n",
    "\n",
    "<img src=\"var-calling/images/paper.png\" width=\"700\" align=\"center\" />\n",
    "\n",
    "\n",
    "Some of the content in this script were taken from https://github.com/kennethban/bwf2020/tree/master/02%20-%20Alignment%2C%20Variant%20Calling%2C%20and%20Annotation\n",
    "\n",
    "\n",
    "\n",
    "## Overview of variant calling workflow:\n",
    "\n",
    "<img src=\"var-calling/images/workflow.png\" width=\"700\" align=\"center\" />\n",
    "\n"
   ]
  }
 ],
 "metadata": {
  "kernelspec": {
   "display_name": "Python 3",
   "language": "python",
   "name": "python3"
  },
  "language_info": {
   "name": ""
  }
 },
 "nbformat": 4,
 "nbformat_minor": 4
}
