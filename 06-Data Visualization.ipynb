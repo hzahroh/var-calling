{
 "cells": [
  {
   "cell_type": "markdown",
   "metadata": {},
   "source": [
    "# Preparing the VCF file for visualization\n",
    "\n",
    "using webtool : MutationMapper https://www.cbioportal.org/mutation_mapper"
   ]
  },
  {
   "cell_type": "markdown",
   "metadata": {},
   "source": [
    "![image](https://raw.githubusercontent.com/fikaparamita/var-calling/main/images/lolipop.png?token=ARW6RR4HNFEL6O6JBGJNZ2K7VSCT2)\n",
    "\n"
   ]
  },
  {
   "cell_type": "markdown",
   "metadata": {},
   "source": [
    "Analysis taken from the paper:\n",
    "\n",
    "![image](https://raw.githubusercontent.com/fikaparamita/var-calling/main/images/result1.png?token=ARW6RR57DWYGR3MFPXR2YLS7VSCVU)\n",
    "\n",
    "\n",
    "\n",
    "![image](https://raw.githubusercontent.com/fikaparamita/var-calling/main/images/result2.png?token=ARW6RR3QIS47HSF2AS5JYP27VSCRG)\n",
    "\n"
   ]
  },
  {
   "cell_type": "code",
   "execution_count": null,
   "metadata": {},
   "outputs": [],
   "source": []
  }
 ],
 "metadata": {
  "kernelspec": {
   "display_name": "Python 3",
   "language": "python",
   "name": "python3"
  },
  "language_info": {
   "name": ""
  }
 },
 "nbformat": 4,
 "nbformat_minor": 4
}
