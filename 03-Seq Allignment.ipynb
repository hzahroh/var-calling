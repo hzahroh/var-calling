{
 "cells": [
  {
   "cell_type": "markdown",
   "metadata": {},
   "source": [
    "# Sequences Allignment"
   ]
  },
  {
   "cell_type": "markdown",
   "metadata": {},
   "source": [
    "## Building the index for alignment\n",
    "\n",
    "\n",
    "Before we can align the query sequence, we need to build the index for alignment. In this case, we will be using the `ref/Homo_sapiens.GRCh38.dna.primary_assembly.fa` file\n",
    "\n",
    "One of the programs for alignment is Bowtie2 (http://bowtie-bio.sourceforge.net/bowtie2/index.shtml)\n",
    "\n",
    "Bowtie 2 is an ultrafast and memory-efficient tool for aligning sequencing reads to long reference sequences. It is particularly good at aligning reads of about 50 up to 100s or 1,000s of characters, and particularly good at aligning to relatively long (e.g. mammalian) genomes. Bowtie 2 indexes the genome with an FM Index to keep its memory footprint small: for the human genome, its memory footprint is typically around 3.2 GB. Bowtie 2 supports gapped, local, and paired-end alignment modes.\n",
    "\n",
    "\n",
    "We will run `bowtie2` to see what the options are available"
   ]
  },
  {
   "cell_type": "code",
   "execution_count": null,
   "metadata": {},
   "outputs": [],
   "source": [
    "bowtie2"
   ]
  },
  {
   "cell_type": "markdown",
   "metadata": {},
   "source": [
    "Prior to the alignment, the reference genome must be indexed. \n",
    "This process may take several hours if indexing the full human genome (~4 GB).\n",
    "The indexing process of reference genome will give 6 files started with `hg38`"
   ]
  },
  {
   "cell_type": "code",
   "execution_count": null,
   "metadata": {},
   "outputs": [],
   "source": [
    "bowtie2-build Homo_sapiens.GRCh38.dna.primary_assembly.fa hg38"
   ]
  },
  {
   "cell_type": "markdown",
   "metadata": {},
   "source": [
    "## Aligning the query sequence\n",
    "\n",
    "Now that we have built the reference index using Bowtie2, we can align the query sequences (`SRR12165154_1.fastq` and `SRR12165154_2.fastq`) to this reference."
   ]
  },
  {
   "cell_type": "code",
   "execution_count": null,
   "metadata": {},
   "outputs": [],
   "source": [
    "bowtie2 -x hg38 -1 SRR12165154_1.fastq -2 SRR12165154_2.fastq -S SRR12165154.sam"
   ]
  },
  {
   "cell_type": "markdown",
   "metadata": {},
   "source": [
    "Let us take a look at the SAM output"
   ]
  },
  {
   "cell_type": "markdown",
   "metadata": {},
   "source": [
    "## Looking at the SAM format\n",
    "\n",
    "The SAM format is a tab delimited text file for storing alignments. The file usually starts with a header containing one/several lines marked by the letter `@`. This usually specifies the reference chromosomes used in the alignment, as well the the parameters used for the alignment\n",
    "\n",
    "Following the header, each line of alignment consists of several tab-delimited columns.\n",
    "\n",
    "<pre>QNAME FLAG RNAME POS MAPQ CIGAR MRNM MPOS ISIZE SEQ QUAL [TAG:VTYPE:VALUE[...]]</pre>\n",
    "* The first 11 are mandatory\n",
    "* Additional columns can be added using the format TAG:VTYPE:VALUE\n",
    "\n",
    "From: http://zyxue.github.io/assets/sam_format_example.jpg\n",
    "![](http://zyxue.github.io/assets/sam_format_example.jpg)"
   ]
  }
 ],
 "metadata": {
  "kernelspec": {
   "display_name": "Python 3",
   "language": "python",
   "name": "python3"
  },
  "language_info": {
   "name": ""
  }
 },
 "nbformat": 4,
 "nbformat_minor": 4
}
