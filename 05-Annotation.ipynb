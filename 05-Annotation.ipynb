{
 "cells": [
  {
   "cell_type": "markdown",
   "metadata": {},
   "source": [
    "# Annotation of Variants\n",
    "\n",
    "We have uncovered variants that differ from the reference genome, but we do not know if the variants affect genes/regions in the genome that may explain a disease or a phenotype.\n",
    "\n",
    "\n",
    "To do this, we will annotate the VCF file by using a tool called `SnpEff/SnpSift`\n",
    "\n",
    "http://snpeff.sourceforge.net\n",
    "\n",
    "We will be using the SnpSift tool specifically to compare our variants against another variant database. Running `SnpSift` will give us the options available"
   ]
  },
  {
   "cell_type": "code",
   "execution_count": null,
   "metadata": {},
   "outputs": [],
   "source": [
    "java -jar snpEff.jar eff -v GRCh38.86 SRR12165154_snp.vcf > SRR12165154_ann.vcf"
   ]
  },
  {
   "cell_type": "markdown",
   "metadata": {},
   "source": [
    "We will annotate the VCF file against the dbSNP and the ClinVar database\n",
    "\n",
    "https://www.ncbi.nlm.nih.gov/variation/docs/human_variation_vcf/\n",
    "\n",
    "This resource aggregates data from various laboratories and expert panels about the interpretation of variants"
   ]
  },
  {
   "cell_type": "code",
   "execution_count": null,
   "metadata": {},
   "outputs": [],
   "source": [
    "java -Xmx16G -jar SnpSift.jar annotate All_20180418.vcf SRR12165154_ann.vcf > SRR12165154_dbSNP.vcf"
   ]
  },
  {
   "cell_type": "code",
   "execution_count": null,
   "metadata": {},
   "outputs": [],
   "source": [
    "java -jar SnpSift.jar annotate -v clinvar_20200720.vcf SRR12165154_dbSNP.vcf > SRR12165154_clin.vcf"
   ]
  },
  {
   "cell_type": "markdown",
   "metadata": {},
   "source": [
    "We can filter the list of variant by the quality `QUAL`. Conventionally, we can choose those that are >30 using SnpSift.\n",
    "We also filter the sequence with read depth >=18"
   ]
  },
  {
   "cell_type": "code",
   "execution_count": null,
   "metadata": {},
   "outputs": [],
   "source": [
    "cat SRR12165154_clin.vcf | java -jar SnpSift.jar filter \"( QUAL >= 30 ) & (DP >= 18)\" > SRR12165154_pass.vcf"
   ]
  },
  {
   "cell_type": "markdown",
   "metadata": {},
   "source": [
    "## Taking a look at the annotated variant file\n",
    "\n",
    "![image](https://raw.githubusercontent.com/fikaparamita/var-calling/main/images/clinvar.png?token=ARW6RR6EAQ23TMDYABSOXY27VSCDI)\n",
    "\n"
   ]
  },
  {
   "cell_type": "markdown",
   "metadata": {},
   "source": [
    "The significance of a variant is classified into different tiers depending on the level of evidence\n",
    "- pathogenic\n",
    "- likely pathogenic\n",
    "- uncertain significance\n",
    "- likely benign\n",
    "- benign\n",
    "\n",
    "The recommendations and guidelines by the American College of Medical Genetics and Genomics and the Association for Molecular Pathology\n",
    "https://www.ncbi.nlm.nih.gov/pmc/articles/PMC4544753/"
   ]
  }
 ],
 "metadata": {
  "kernelspec": {
   "display_name": "Python 3",
   "language": "python",
   "name": "python3"
  },
  "language_info": {
   "name": ""
  }
 },
 "nbformat": 4,
 "nbformat_minor": 4
}
