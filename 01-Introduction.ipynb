{
 "cells": [
  {
   "cell_type": "markdown",
   "metadata": {},
   "source": [
    "# Analysis of Germline Variants in Pancreatic Cancer\n",
    "\n",
    "Credit: Some of the content in this script were taken from https://github.com/kennethban/bwf2020/tree/master/02%20-%20Alignment%2C%20Variant%20Calling%2C%20and%20Annotation\n",
    "\n",
    "\n",
    "\n"
   ]
  },
  {
   "cell_type": "markdown",
   "metadata": {},
   "source": [
    "In this tutorial, we will analyze variants in Pancreatic cancer patients sequencing data of Earl,J et al. https://www.thelancet.com/journals/ebiom/article/PIIS2352-3964(20)30050-5/fulltext\n",
    "\n",
    "\n",
    "![image](https://raw.githubusercontent.com/fikaparamita/var-calling/main/images/paper.png?token=ARW6RR2TGVPRU3E4WAILM5S7VSBAE)\n",
    "\n",
    "\n",
    "\n",
    "## Overview of variant calling workflow:\n",
    "\n",
    "![image](https://raw.githubusercontent.com/fikaparamita/var-calling/main/images/pipeline.png)"
   ]
  },
  {
   "cell_type": "code",
   "execution_count": null,
   "metadata": {},
   "outputs": [],
   "source": []
  }
 ],
 "metadata": {
  "kernelspec": {
   "display_name": "Python 3",
   "language": "python",
   "name": "python3"
  },
  "language_info": {
   "name": ""
  }
 },
 "nbformat": 4,
 "nbformat_minor": 4
}
