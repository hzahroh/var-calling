{
 "cells": [
  {
   "cell_type": "markdown",
   "metadata": {},
   "source": [
    "# Analysis of Germline Variants in Pancreatic Cancer\n",
    "\n",
    "In this tutorial, we will analyze variants in Pancreatic cancer patients sequencing data of Earl,J et al. https://www.thelancet.com/journals/ebiom/article/PIIS2352-3964(20)30050-5/fulltext\n",
    "\n",
    "    \n",
    "![](images/paper.png)\n",
    "\n",
    "\n",
    "\n",
    "### Overview of variant calling workflow:\n",
    "\n",
    "![](images/workflow.png)\n"
   ]
  },
  {
   "cell_type": "markdown",
   "metadata": {},
   "source": [
    "## Download the raw fastq files\n",
    "\n",
    "We can download the raw fastq file on SRA website under Bioproject PRJNA644607 https://www.ncbi.nlm.nih.gov/sra?linkname=bioproject_sra_all&from_uid=644607\n",
    "\n",
    "![](images/sra.png)"
   ]
  },
  {
   "cell_type": "markdown",
   "metadata": {},
   "source": [
    "Download the raw fastq files using SRA-toolkit https://ncbi.github.io/sra-tools/fastq-dump.html"
   ]
  },
  {
   "cell_type": "code",
   "execution_count": null,
   "metadata": {},
   "outputs": [],
   "source": [
    "./Downloads/sratoolkit.2.10.8-mac64/bin/fastq-dump -I --split-files SRR12165154"
   ]
  },
  {
   "cell_type": "raw",
   "metadata": {},
   "source": [
    "This script will give paired-end fastq files:\n",
    "SRR12165154_1.fastq\n",
    "SRR12165154_2.fastq"
   ]
  },
  {
   "cell_type": "raw",
   "metadata": {},
   "source": [
    "Let's take a look at the contents of the directory"
   ]
  },
  {
   "cell_type": "markdown",
   "metadata": {},
   "source": [
    "Let us look at the files that will be using\n",
    "\n",
    "- `ref/Homo_sapiens.GRCh38.dna.primary_assembly.fa` - the human reference genome (hg38)\n",
    "- `SRR12165154_1.fastq` and `SRR12165154_2.fastq` - the query sequences"
   ]
  },
  {
   "cell_type": "markdown",
   "metadata": {},
   "source": [
    "## Taking a peek at the reference fasta file"
   ]
  },
  {
   "cell_type": "code",
   "execution_count": null,
   "metadata": {
    "collapsed": false,
    "jupyter": {
     "outputs_hidden": false
    }
   },
   "outputs": [],
   "source": [
    "head ref/Homo_sapiens.GRCh38.dna.primary_assembly.fa"
   ]
  },
  {
   "cell_type": "raw",
   "metadata": {},
   "source": [
    "The fasta format is quite simple. The first line is the identifier which starts with '>'\n",
    "\n",
    "The subsequent lines are DNA sequences."
   ]
  },
  {
   "cell_type": "markdown",
   "metadata": {},
   "source": [
    "## Taking a look at the query sequence file (first 4 lines)"
   ]
  },
  {
   "cell_type": "markdown",
   "metadata": {},
   "source": [
    "### One sequence in a fastq file consists of 4 lines. \n",
    "\n",
    "- Line 1 - sequence identifier (starts with @)\n",
    "- Line 2 - DNA sequence\n",
    "- Line 3 - sequence identifier (starts with +)\n",
    "- Line 4 - corresponding quality score (Phred score 0-93 + 33)\n",
    "\n",
    "For the quality score, the following characters encode the lowest to highest scores\n",
    "\n",
    "<pre> !\"#$%&'()*+,-./0123456789:;<=>?@ABCDEFGHIJKLMNOPQRSTUVWXYZ[\\]^_`abcdefghijklmnopqrstuvwxyz{|}~ </pre>\n",
    "\n",
    "For more information, see https://en.wikipedia.org/wiki/FASTQ_format\n"
   ]
  },
  {
   "cell_type": "markdown",
   "metadata": {},
   "source": [
    "## Checking the quality of the FASTQ sequences\n",
    "\n",
    "It is a good practice to check the quality of the sequences by plotting the quality (Q) scores by the position. In general, a Q score of > 30 is good.\n",
    "\n",
    "To generate a plot, we will use `fastQC` (https://www.bioinformatics.babraham.ac.uk/projects/fastqc/)"
   ]
  },
  {
   "cell_type": "code",
   "execution_count": null,
   "metadata": {},
   "outputs": [],
   "source": [
    "fastqc SRR12165154_1.fastq"
   ]
  },
  {
   "cell_type": "code",
   "execution_count": null,
   "metadata": {},
   "outputs": [],
   "source": [
    "fastqc SRR12165154_2.fastq"
   ]
  },
  {
   "cell_type": "markdown",
   "metadata": {},
   "source": [
    "it will generate an HTML file that we can open to see the quality scores.\n",
    "The analysis modules can be seen on https://www.bioinformatics.babraham.ac.uk/projects/fastqc/Help/3%20Analysis%20Modules/\n"
   ]
  },
  {
   "cell_type": "markdown",
   "metadata": {},
   "source": [
    "## Building the index for alignment\n",
    "\n",
    "\n",
    "Before we can align the query sequence, we need to build the index for alignment. In this case, we will be using the `ref/Homo_sapiens.GRCh38.dna.primary_assembly.fa` file\n",
    "\n",
    "One of the programs for alignment is Bowtie2 (http://bowtie-bio.sourceforge.net/bowtie2/index.shtml)\n",
    "\n",
    "Bowtie 2 is an ultrafast and memory-efficient tool for aligning sequencing reads to long reference sequences. It is particularly good at aligning reads of about 50 up to 100s or 1,000s of characters, and particularly good at aligning to relatively long (e.g. mammalian) genomes. Bowtie 2 indexes the genome with an FM Index to keep its memory footprint small: for the human genome, its memory footprint is typically around 3.2 GB. Bowtie 2 supports gapped, local, and paired-end alignment modes.\n",
    "\n",
    "\n",
    "We will run `bowtie2` to see what the options are available"
   ]
  },
  {
   "cell_type": "code",
   "execution_count": null,
   "metadata": {},
   "outputs": [],
   "source": [
    "bowtie2"
   ]
  },
  {
   "cell_type": "markdown",
   "metadata": {},
   "source": [
    "Prior to the alignment, the reference genome must be indexed. \n",
    "This process may take several hours if indexing the full human genome (~4 GB).\n",
    "The reference genome index already given in `ref` folder (6 files started with `hg38`)"
   ]
  },
  {
   "cell_type": "code",
   "execution_count": null,
   "metadata": {},
   "outputs": [],
   "source": [
    "bowtie2-build ref/Homo_sapiens.GRCh38.dna.primary_assembly.fa ref/hg38"
   ]
  },
  {
   "cell_type": "markdown",
   "metadata": {},
   "source": [
    "## Aligning the query sequence\n",
    "\n",
    "Now that we have built the reference index using Bowtie2, we can align the query sequences (`SRR12165154_1.fastq` and `SRR12165154_2.fastq`) to this reference."
   ]
  },
  {
   "cell_type": "code",
   "execution_count": null,
   "metadata": {},
   "outputs": [],
   "source": [
    "bowtie2 -x ref/hg38 -1 SRR12165154_1.fastq -2 SRR12165154_2.fastq -S SRR12165154.sam"
   ]
  },
  {
   "cell_type": "raw",
   "metadata": {},
   "source": [
    "Let us take a look at the SAM output"
   ]
  },
  {
   "cell_type": "markdown",
   "metadata": {},
   "source": [
    "## Looking at the SAM format\n",
    "\n",
    "The SAM format is a tab delimited text file for storing alignments. The file usually starts with a header containing one/several lines marked by the letter `@`. This usually specifies the reference chromosomes used in the alignment, as well the the parameters used for the alignment\n",
    "\n",
    "Following the header, each line of alignment consists of several tab-delimited columns.\n",
    "\n",
    "<pre>QNAME FLAG RNAME POS MAPQ CIGAR MRNM MPOS ISIZE SEQ QUAL [TAG:VTYPE:VALUE[...]]</pre>\n",
    "* The first 11 are mandatory\n",
    "* Additional columns can be added using the format TAG:VTYPE:VALUE\n",
    "\n",
    "From: http://zyxue.github.io/assets/sam_format_example.jpg\n",
    "![](http://zyxue.github.io/assets/sam_format_example.jpg)"
   ]
  },
  {
   "cell_type": "markdown",
   "metadata": {},
   "source": [
    "## Variant Calling\n",
    "\n",
    "Now that we have the aligned sequences to the reference, we can look for difference between the aligned sequences and the reference. This process is also known as variant calling.\n",
    "\n",
    "In order to perform variant calling, we need to preprocess the SAM file as well as the reference chromosome 5 fasta file. The following steps will be performed :\n",
    "\n",
    "* Converting SAM to BAM format (this is the binary compressed version)\n",
    "* Sorting the BAM file\n",
    "* Marking duplicates in the BAM file\n",
    "* Indexing the BAM file\n",
    "* Indexing the reference fasta file"
   ]
  },
  {
   "cell_type": "markdown",
   "metadata": {},
   "source": [
    "### Processing the SAM file generated by Bowtie2\n",
    "\n",
    "We will process the SAM file using samtools, which can be accessed after loading the module."
   ]
  },
  {
   "cell_type": "raw",
   "metadata": {},
   "source": [
    "We will begin by converting the SAM file to the compressed BAM format. To do this, we will need to refer to the reference fasta file and the SAM file. The output will be redirected to a new BAM file."
   ]
  },
  {
   "cell_type": "code",
   "execution_count": null,
   "metadata": {},
   "outputs": [],
   "source": [
    "samtools view -Sb SRR12165154.sam -o SRR12165154.bam"
   ]
  }
 ],
 "metadata": {
  "kernelspec": {
   "display_name": "Python 3",
   "language": "python",
   "name": "python3"
  },
  "language_info": {
   "name": ""
  }
 },
 "nbformat": 4,
 "nbformat_minor": 4
}
