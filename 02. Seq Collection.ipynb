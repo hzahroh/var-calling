{
 "cells": [
  {
   "cell_type": "markdown",
   "metadata": {},
   "source": [
    "# Sequences collection and QC check"
   ]
  },
  {
   "cell_type": "markdown",
   "metadata": {},
   "source": [
    "## Download the raw fastq files\n",
    "\n",
    "We can download the raw fastq file on SRA website under Bioproject PRJNA644607 https://www.ncbi.nlm.nih.gov/sra?linkname=bioproject_sra_all&from_uid=644607\n",
    "\n",
    "![image](https://raw.githubusercontent.com/fikaparamita/var-calling/main/images/sra.png?token=ARW6RRYHNJEJUVIN7ULKHNS7VSBE2)\n",
   ]
  },
  {
   "cell_type": "markdown",
   "metadata": {},
   "source": [
    "Download the raw fastq files using SRA-toolkit https://ncbi.github.io/sra-tools/fastq-dump.html"
   ]
  },
  {
   "cell_type": "code",
   "execution_count": null,
   "metadata": {},
   "outputs": [],
   "source": [
    "./Downloads/sratoolkit.2.10.8-mac64/bin/fastq-dump -I --split-files SRR12165154"
   ]
  },
  {
   "cell_type": "markdown",
   "metadata": {},
   "source": [
    "This script will give paired-end fastq files:\n",
    "SRR12165154_1.fastq\n",
    "SRR12165154_2.fastq"
   ]
  },
  {
   "cell_type": "markdown",
   "metadata": {},
   "source": [
    "Let us look at the files that will be used\n",
    "\n",
    "- `ref/Homo_sapiens.GRCh38.dna.primary_assembly.fa` - the human reference genome (hg38)\n",
    "- `SRR12165154_1.fastq` and `SRR12165154_2.fastq' - the query sequences"
   ]
  },
  {
   "cell_type": "markdown",
   "metadata": {},
   "source": [
    "## Taking a peek at the reference fasta file"
   ]
  },
  {
   "cell_type": "code",
   "execution_count": null,
   "metadata": {
    "collapsed": false,
    "jupyter": {
     "outputs_hidden": false
    }
   },
   "outputs": [],
   "source": [
    "head ref/Homo_sapiens.GRCh38.dna.primary_assembly.fa"
   ]
  },
  {
   "cell_type": "markdown",
   "metadata": {},
   "source": [
    "The fasta format is quite simple. The first line is the identifier which starts with '>'\n",
    "\n",
    "The subsequent lines are DNA sequences."
   ]
  },
  {
   "cell_type": "markdown",
   "metadata": {},
   "source": [
    "## Taking a look at the query sequence file (first 4 lines)"
   ]
  },
  {
   "cell_type": "markdown",
   "metadata": {},
   "source": [
    "### One sequence in a fastq file consists of 4 lines. \n",
    "\n",
    "- Line 1 - sequence identifier (starts with @)\n",
    "- Line 2 - DNA sequence\n",
    "- Line 3 - sequence identifier (starts with +)\n",
    "- Line 4 - corresponding quality score (Phred score 0-93 + 33)\n",
    "\n",
    "For the quality score, the following characters encode the lowest to highest scores\n",
    "\n",
    "<pre> !\"#$%&'()*+,-./0123456789:;<=>?@ABCDEFGHIJKLMNOPQRSTUVWXYZ[\\]^_`abcdefghijklmnopqrstuvwxyz{|}~ </pre>\n",
    "\n",
    "For more information, see https://en.wikipedia.org/wiki/FASTQ_format\n"
   ]
  },
  {
   "cell_type": "markdown",
   "metadata": {},
   "source": [
    "## Checking the quality of the FASTQ sequences\n",
    "\n",
    "It is a good practice to check the quality of the sequences by plotting the quality (Q) scores by the position. In general, a Q score of > 30 is good.\n",
    "\n",
    "To generate a plot, we will use `fastQC` (https://www.bioinformatics.babraham.ac.uk/projects/fastqc/)"
   ]
  },
  {
   "cell_type": "code",
   "execution_count": null,
   "metadata": {},
   "outputs": [],
   "source": [
    "fastqc SRR12165154_1.fastq"
   ]
  },
  {
   "cell_type": "code",
   "execution_count": null,
   "metadata": {},
   "outputs": [],
   "source": [
    "fastqc SRR12165154_2.fastq"
   ]
  },
  {
   "cell_type": "markdown",
   "metadata": {},
   "source": [
    "it will generate an HTML file that we can open to see the quality scores.\n",
    "The analysis modules can be seen on https://www.bioinformatics.babraham.ac.uk/projects/fastqc/Help/3%20Analysis%20Modules/\n"
   ]
  }
 ],
 "metadata": {
  "kernelspec": {
   "display_name": "Python 3",
   "language": "python",
   "name": "python3"
  },
  "language_info": {
   "name": ""
  }
 },
 "nbformat": 4,
 "nbformat_minor": 4
}
